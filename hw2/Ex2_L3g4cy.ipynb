{
 "cells": [
  {
   "cell_type": "markdown",
   "metadata": {},
   "source": [
    "### MI2 Excercise 2 by L3g4cy"
   ]
  },
  {
   "cell_type": "markdown",
   "metadata": {},
   "source": [
    "#### 2.1 a)"
   ]
  },
  {
   "cell_type": "code",
   "execution_count": null,
   "metadata": {
    "collapsed": false
   },
   "outputs": [],
   "source": [
    "import numpy as np\n",
    "import matplotlib.pyplot as plt\n",
    "%matplotlib inline\n",
    "\n",
    "pca_data = np.fromfile('pca-data-2d.dat', sep=\" \")\n",
    "pca_data = pca_data.reshape((2,10))                          #bring data into right format\n",
    "pca_data_centered = pca_data - np.outer(np.ones(pca_data.shape[1]),np.mean(pca_data, 1)).T\n",
    "\n",
    "plt.scatter(pca_data_centered[0,:], pca_data_centered[1,:]);\n",
    "plt.xlabel('x-label');\n",
    "plt.ylabel('y-label');\n",
    "plt.axes().set_aspect('equal', 'datalim');"
   ]
  },
  {
   "cell_type": "markdown",
   "metadata": {},
   "source": [
    "#### b)"
   ]
  },
  {
   "cell_type": "code",
   "execution_count": null,
   "metadata": {
    "collapsed": false
   },
   "outputs": [],
   "source": [
    "C = np.cov(pca_data_centered)           #divide by 1/20?\n",
    "eig_val = np.linalg.eig(C)[0]\n",
    "eig_vec = np.linalg.eig(C)[1]"
   ]
  },
  {
   "cell_type": "code",
   "execution_count": null,
   "metadata": {
    "collapsed": false
   },
   "outputs": [],
   "source": [
    "pca_data_projected = np.dot(eig_vec.T, pca_data_centered)\n",
    "plt.scatter(pca_data_projected[0,:], pca_data_projected[1,:]);\n",
    "plt.xlabel('x-label');\n",
    "plt.ylabel('y-label');\n",
    "plt.axes().set_aspect('equal', 'datalim');"
   ]
  },
  {
   "cell_type": "markdown",
   "metadata": {},
   "source": [
    "#### c)"
   ]
  },
  {
   "cell_type": "code",
   "execution_count": null,
   "metadata": {
    "collapsed": false
   },
   "outputs": [],
   "source": [
    "back_projection = np.linalg.inv(eig_vec.T)\n",
    "pca_data_compressed1 = np.dot(back_projection, np.vstack((pca_data_projected[0,:],np.zeros(pca_data.shape[1]))))\n",
    "pca_data_compressed2 = np.dot(back_projection, np.vstack((np.zeros(pca_data.shape[1]), pca_data_projected[1,:])))"
   ]
  },
  {
   "cell_type": "code",
   "execution_count": null,
   "metadata": {
    "collapsed": false
   },
   "outputs": [],
   "source": [
    "plt.figure();\n",
    "plt.scatter(pca_data_compressed1[0,:], pca_data_compressed1[1,:]);\n",
    "plt.title('compression w.r.t. to first pc');\n",
    "plt.xlabel('x-label');\n",
    "plt.ylabel('y-label');\n",
    "plt.figure();\n",
    "plt.scatter(pca_data_compressed2[0,:], pca_data_compressed2[1,:]);\n",
    "plt.title('compression w.r.t. to second pc');\n",
    "plt.xlabel('x-label');\n",
    "plt.ylabel('y-label');"
   ]
  },
  {
   "cell_type": "markdown",
   "metadata": {},
   "source": [
    "#### 2.2 a)"
   ]
  },
  {
   "cell_type": "code",
   "execution_count": null,
   "metadata": {
    "collapsed": false
   },
   "outputs": [],
   "source": [
    "pca_data_3d = np.loadtxt('pca-data-3d.txt',skiprows=1,delimiter=',',usecols=np.arange(0,3))\n",
    "mean = np.mean(pca_data_3d, 0)\n",
    "pca_data_3d_centered = pca_data_3d - np.outer(np.ones(pca_data_3d.shape[0]),mean)"
   ]
  },
  {
   "cell_type": "code",
   "execution_count": null,
   "metadata": {
    "collapsed": true
   },
   "outputs": [],
   "source": []
  },
  {
   "cell_type": "markdown",
   "metadata": {},
   "source": []
  }
 ],
 "metadata": {
  "kernelspec": {
   "display_name": "Python 3",
   "language": "python",
   "name": "python3"
  },
  "language_info": {
   "codemirror_mode": {
    "name": "ipython",
    "version": 3
   },
   "file_extension": ".py",
   "mimetype": "text/x-python",
   "name": "python",
   "nbconvert_exporter": "python",
   "pygments_lexer": "ipython3",
   "version": "3.5.1"
  }
 },
 "nbformat": 4,
 "nbformat_minor": 0
}
